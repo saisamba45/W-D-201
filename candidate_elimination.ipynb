{
  "nbformat": 4,
  "nbformat_minor": 0,
  "metadata": {
    "colab": {
      "provenance": [],
      "authorship_tag": "ABX9TyOxiqaecvY5oXYAI1zXCjvL",
      "include_colab_link": true
    },
    "kernelspec": {
      "name": "python3",
      "display_name": "Python 3"
    },
    "language_info": {
      "name": "python"
    }
  },
  "cells": [
    {
      "cell_type": "markdown",
      "metadata": {
        "id": "view-in-github",
        "colab_type": "text"
      },
      "source": [
        "<a href=\"https://colab.research.google.com/github/saisamba45/W-D-201/blob/main/candidate_elimination.ipynb\" target=\"_parent\"><img src=\"https://colab.research.google.com/assets/colab-badge.svg\" alt=\"Open In Colab\"/></a>"
      ]
    },
    {
      "cell_type": "code",
      "execution_count": 1,
      "metadata": {
        "colab": {
          "base_uri": "https://localhost:8080/"
        },
        "id": "hGyNrvNLlodf",
        "outputId": "82767eb6-b75b-4a7c-ba93-11930ee9e38c"
      },
      "outputs": [
        {
          "output_type": "stream",
          "name": "stdout",
          "text": [
            "     sky   air humidity    wind water forecast enjoy\n",
            "0  Sunny  Warm   Normal  Strong  Warm     Same   Yes\n",
            "1  Sunny  Warm     High  Strong  Warm     Same   Yes\n",
            "2  Rainy  Cold     High  Strong  Warm   Change    No\n",
            "3  Sunny  Warm     High  Strong  Cool   Change   Yes\n",
            "['Yes' 'Yes' 'No' 'Yes']\n",
            "[['Sunny' 'Warm' 'Normal' 'Strong' 'Warm' 'Same']\n",
            " ['Sunny' 'Warm' 'High' 'Strong' 'Warm' 'Same']\n",
            " ['Rainy' 'Cold' 'High' 'Strong' 'Warm' 'Change']\n",
            " ['Sunny' 'Warm' 'High' 'Strong' 'Cool' 'Change']]\n",
            "Initialization of specific_h and general_h\n",
            "specific_h:  ['Sunny' 'Warm' 'Normal' 'Strong' 'Warm' 'Same']\n",
            "general_h:  [['?', '?', '?', '?', '?', '?'], ['?', '?', '?', '?', '?', '?'], ['?', '?', '?', '?', '?', '?'], ['?', '?', '?', '?', '?', '?'], ['?', '?', '?', '?', '?', '?'], ['?', '?', '?', '?', '?', '?']]\n",
            "concepts:  [['Sunny' 'Warm' 'Normal' 'Strong' 'Warm' 'Same']\n",
            " ['Sunny' 'Warm' 'High' 'Strong' 'Warm' 'Same']\n",
            " ['Rainy' 'Cold' 'High' 'Strong' 'Warm' 'Change']\n",
            " ['Sunny' 'Warm' 'High' 'Strong' 'Cool' 'Change']]\n",
            "\n",
            "Steps of Candidate Elimination Algorithm:  4\n",
            "Specific_h:  4\n",
            "['Sunny' 'Warm' 'Normal' 'Strong' 'Warm' 'Same'] \n",
            "\n",
            "general_h : 4\n",
            "[['?', '?', '?', '?', '?', '?'], ['?', '?', '?', '?', '?', '?'], ['?', '?', '?', '?', '?', '?'], ['?', '?', '?', '?', '?', '?'], ['?', '?', '?', '?', '?', '?'], ['?', '?', '?', '?', '?', '?']]\n",
            "\n",
            "Indices [0, 1, 2, 3, 4, 5]\n",
            "\n",
            "Final Specific_h:\n",
            "['Sunny' 'Warm' 'Normal' 'Strong' 'Warm' 'Same']\n",
            "Final General_h:\n",
            "[]\n"
          ]
        }
      ],
      "source": [
        "import numpy as np\n",
        "\n",
        "import pandas as pd\n",
        "\n",
        "data = pd.DataFrame(data=pd.read_csv('data.csv'))\n",
        "\n",
        "print(data)\n",
        "concepts = np.array(data.iloc[:,0:-1])\n",
        "\n",
        "target = np.array(data.iloc[:,-1])\n",
        "\n",
        "print(target)\n",
        "\n",
        "print(concepts)\n",
        "\n",
        " #Defining Model (Candidate Elimination algorithm concepts)\n",
        "def learn(concepts, target):\n",
        "\n",
        "        specific_h = concepts[0].copy()\n",
        "\n",
        "        print(\"Initialization of specific_h and general_h\")\n",
        "\n",
        "        print(\"specific_h: \",specific_h)\n",
        "\n",
        "        general_h = [[\"?\" for i in range(len(specific_h))] for i in range(len(specific_h))]\n",
        "\n",
        "        print(\"general_h: \",general_h)\n",
        "\n",
        "        print(\"concepts: \",concepts)\n",
        "\n",
        "        for i, h in enumerate(concepts):\n",
        "\n",
        "            if target[i] == \"yes\":\n",
        "\n",
        "                for x in range(len(specific_h)):\n",
        "\n",
        "                    #print(\"h[x]\",h[x])\n",
        "\n",
        "                    if h[x] != specific_h[x]:\n",
        "\n",
        "                        specific_h[x] = '?'\n",
        "\n",
        "                        general_h[x][x] = '?'\n",
        "\n",
        "            if target[i] == \"no\":\n",
        "\n",
        "                for x in range(len(specific_h)):\n",
        "\n",
        "                    if h[x] != specific_h[x]:\n",
        "\n",
        "                        general_h[x][x] = specific_h[x]\n",
        "\n",
        "                    else:\n",
        "\n",
        "                        general_h[x][x] = '?'\n",
        "\n",
        "        print(\"\\nSteps of Candidate Elimination Algorithm: \",i+1)\n",
        "\n",
        "        print(\"Specific_h: \",i+1)\n",
        "\n",
        "        print(specific_h,\"\\n\")\n",
        "\n",
        "        print(\"general_h :\", i+1)\n",
        "\n",
        "        print(general_h)\n",
        "\n",
        "        indices = [i for i, val in enumerate(general_h) if val == ['?', '?', '?', '?', '?', '?']]\n",
        "\n",
        "        print(\"\\nIndices\",indices)\n",
        "\n",
        "        for i in indices:\n",
        "\n",
        "            general_h.remove(['?', '?', '?', '?', '?', '?'])\n",
        "\n",
        "        return specific_h, general_h\n",
        "\n",
        "s_final,g_final = learn(concepts, target)\n",
        "\n",
        "print(\"\\nFinal Specific_h:\", s_final, sep=\"\\n\")\n",
        "\n",
        "print(\"Final General_h:\", g_final, sep=\"\\n\")\n"
      ]
    }
  ]
}